{
 "metadata": {
  "name": "",
  "signature": "sha256:d4d29c98043f2f7f932439c44c9f71bc3cb9a16d16ac3d8d5d38da75eb58536d"
 },
 "nbformat": 3,
 "nbformat_minor": 0,
 "worksheets": [
  {
   "cells": [
    {
     "cell_type": "code",
     "collapsed": false,
     "input": [
      "def sample_a_mean(payoff_mean, payoff_stdev, cost_mean, cost_stdev, cost_probability, sample_size):\n",
      "  payoffs = np.random.normal(loc=payoff_mean, scale=payoff_stdev, size=sample_size)\n",
      "  costs = np.random.normal(loc=cost_mean, scale=cost_stdev, size=sample_size) * np.random.binomial(1,cost_probability, size=sample_size)\n",
      "  return (payoffs - costs).mean()"
     ],
     "language": "python",
     "metadata": {},
     "outputs": [],
     "prompt_number": 72
    },
    {
     "cell_type": "code",
     "collapsed": false,
     "input": [
      "(np.random.normal(loc=23, scale=1, size=1000) - (np.random.normal(loc=10, scale=1, size=1000) * np.random.binomial(1, 1, size=1000))).mean()"
     ],
     "language": "python",
     "metadata": {},
     "outputs": [
      {
       "metadata": {},
       "output_type": "pyout",
       "prompt_number": 71,
       "text": [
        "12.979089497402763"
       ]
      }
     ],
     "prompt_number": 71
    },
    {
     "cell_type": "code",
     "collapsed": false,
     "input": [
      "np.random.binomial(1, 1, size=100)"
     ],
     "language": "python",
     "metadata": {},
     "outputs": [
      {
       "metadata": {},
       "output_type": "pyout",
       "prompt_number": 66,
       "text": [
        "array([1, 1, 1, 1, 1, 1, 1, 1, 1, 1, 1, 1, 1, 1, 1, 1, 1, 1, 1, 1, 1, 1, 1,\n",
        "       1, 1, 1, 1, 1, 1, 1, 1, 1, 1, 1, 1, 1, 1, 1, 1, 1, 1, 1, 1, 1, 1, 1,\n",
        "       1, 1, 1, 1, 1, 1, 1, 1, 1, 1, 1, 1, 1, 1, 1, 1, 1, 1, 1, 1, 1, 1, 1,\n",
        "       1, 1, 1, 1, 1, 1, 1, 1, 1, 1, 1, 1, 1, 1, 1, 1, 1, 1, 1, 1, 1, 1, 1,\n",
        "       1, 1, 1, 1, 1, 1, 1, 1])"
       ]
      }
     ],
     "prompt_number": 66
    },
    {
     "cell_type": "code",
     "collapsed": false,
     "input": [
      "sample_a_mean(23.25, 2.00, 10.00, 1.00, .5, 10000)"
     ],
     "language": "python",
     "metadata": {},
     "outputs": [
      {
       "metadata": {},
       "output_type": "pyout",
       "prompt_number": 78,
       "text": [
        "18.285669604250632"
       ]
      }
     ],
     "prompt_number": 78
    },
    {
     "cell_type": "code",
     "collapsed": false,
     "input": [
      "sample_a_mean(23.25, 1.00, 10.00, 1.00, .01, 100000)"
     ],
     "language": "python",
     "metadata": {},
     "outputs": [
      {
       "metadata": {},
       "output_type": "pyout",
       "prompt_number": 48,
       "text": [
        "23.009061829881642"
       ]
      }
     ],
     "prompt_number": 48
    },
    {
     "cell_type": "code",
     "collapsed": false,
     "input": [
      "np.random.binomial(1,.15, size=10)"
     ],
     "language": "python",
     "metadata": {},
     "outputs": [
      {
       "metadata": {},
       "output_type": "pyout",
       "prompt_number": 11,
       "text": [
        "array([0, 0, 0, 0, 0, 0, 0, 0, 1, 0])"
       ]
      }
     ],
     "prompt_number": 11
    },
    {
     "cell_type": "code",
     "collapsed": false,
     "input": [
      "np.array([1,2,3,4])*np.array([0,.15,.5,1])"
     ],
     "language": "python",
     "metadata": {},
     "outputs": [
      {
       "metadata": {},
       "output_type": "pyout",
       "prompt_number": 5,
       "text": [
        "array([ 0. ,  0.3,  1.5,  4. ])"
       ]
      }
     ],
     "prompt_number": 5
    },
    {
     "cell_type": "code",
     "collapsed": false,
     "input": [
      "payoffs = np.random.normal(loc=payoff_mean, scale=payoff_stdev, size=sample_size)\n",
      "costs = np.random.normal(loc=payoff_mean, scale=payoff_stdev, size=sample_size) * np.random.binomial(1,cost_probability, size=sample_size)\n"
     ],
     "language": "python",
     "metadata": {},
     "outputs": []
    },
    {
     "cell_type": "code",
     "collapsed": false,
     "input": [
      "class Bandit:\n",
      "  def __init__(self, control_payoff_mean, control_cost_mean, variant_payoff_mean, variant_cost_mean):\n",
      "    self._control_payoff_mean = control_payoff_mean\n",
      "    self._control_cost_mean = control_cost_mean\n",
      "    self._variant_payoff_mean = variant_payoff_mean\n",
      "    self._variant_cost_mean = variant_cost_mean\n",
      "    self._control_cost_probability = .1\n",
      "    self._variant_cost_probability = .1\n",
      "    self._control_rewards = []\n",
      "    self._variant_rewards = []\n",
      "    self._chosen_rewards = []\n",
      "    \n",
      "  def _pull(self):\n",
      "    control_payoff = self._pull_control()\n",
      "    variant_payoff = self._pull_variant()\n",
      "    self._control_rewards.append(control_payoff)\n",
      "    self._variant_rewards.append(variant_payoff)\n",
      "    return {'control': control_payoff, 'variant': variant_payoff}\n",
      "\n",
      "  def pull_control(self):\n",
      "    chosen_reward = self._pull()['control']\n",
      "    self._chosen_rewards.append(chosen_reward)\n",
      "    return chosen_reward\n",
      "\n",
      "  def pull_variant(self):\n",
      "    chosen_reward = self._pull()['variant']\n",
      "    self._chosen_rewards.append(chosen_reward)\n",
      "    return chosen_reward\n",
      "\n",
      "  def _pull_control(self):\n",
      "    return np.random.normal(loc=self._control_payoff_mean, scale=5.00) - np.random.binomial(1, self._control_cost_probability)*np.random.normal(loc=self._control_cost_mean, scale=1.00)\n",
      "  \n",
      "  def _pull_variant(self):\n",
      "    return np.random.normal(loc=self._variant_payoff_mean, scale=5.00) - np.random.binomial(1, self._variant_cost_probability)*np.random.normal(loc=self._variant_cost_mean, scale=1.00)\n",
      "\n",
      "\n"
     ],
     "language": "python",
     "metadata": {},
     "outputs": [],
     "prompt_number": 86
    },
    {
     "cell_type": "code",
     "collapsed": false,
     "input": [
      "class RPMStrategy:\n",
      "  def __init__(self):\n",
      "    self._control_observations = []\n",
      "    self._variant_observations = []\n",
      "  \n",
      "  def log_control_observation(self, observation):\n",
      "    self._control_observations.append(observation)\n",
      "    \n",
      "  def log_variant_observation(self, observation):\n",
      "    self._variant_observations.append(observation)\n",
      "\n",
      "  def _better_bootstrap(self, data, max=200.):\n",
      "      p_unobserved = 1./(len(data) + 1.)\n",
      "      number_of_randoms = np.random.binomial(len(data)+1, p_unobserved)\n",
      "      random_values = [numpy.random.uniform(0., max) for i in range(number_of_randoms)]\n",
      "      new_data = data + random_values\n",
      "      sample_mean = np.random.choice(new_data, size=len(new_data)).mean()\n",
      "      return sample_mean\n",
      "\n",
      "  def choose_arm(self, control_lambda, variant_lambda):\n",
      "    control_mean = self._better_bootstrap(self._control_observations)\n",
      "    variant_mean = self._better_bootstrap(self._variant_observations)\n",
      "    if control_mean > variant_mean:\n",
      "      self._control_observations.append(control_lambda())\n",
      "    else:\n",
      "      self._variant_observations.append(variant_lambda())"
     ],
     "language": "python",
     "metadata": {},
     "outputs": [],
     "prompt_number": 129
    },
    {
     "cell_type": "code",
     "collapsed": false,
     "input": [
      "experiment = Bandit(22.00, 9.00, 24.00, 10.00)\n",
      "bandit = RPMStrategy()\n",
      "for i in range(2000):\n",
      "    bandit.choose_arm(experiment.pull_control, experiment.pull_variant)"
     ],
     "language": "python",
     "metadata": {},
     "outputs": [],
     "prompt_number": 176
    },
    {
     "cell_type": "code",
     "collapsed": false,
     "input": [
      "plt.plot(np.array(experiment._chosen_rewards).cumsum())\n",
      "plt.plot(np.array(experiment._control_rewards).cumsum())\n",
      "plt.plot(np.array(experiment._variant_rewards).cumsum())"
     ],
     "language": "python",
     "metadata": {},
     "outputs": [
      {
       "metadata": {},
       "output_type": "pyout",
       "prompt_number": 177,
       "text": [
        "[<matplotlib.lines.Line2D at 0x10cfc7a10>]"
       ]
      },
      {
       "metadata": {},
       "output_type": "display_data",
       "png": "[encoded data removed]",
       "text": [
        "<matplotlib.figure.Figure at 0x10ceb9450>"
       ]
      }
     ],
     "prompt_number": 177
    },
    {
     "cell_type": "code",
     "collapsed": false,
     "input": [
      "plt.plot(np.array(experiment._variant_rewards).cumsum() - np.array(experiment._chosen_rewards).cumsum())"
     ],
     "language": "python",
     "metadata": {},
     "outputs": [
      {
       "metadata": {},
       "output_type": "pyout",
       "prompt_number": 178,
       "text": [
        "[<matplotlib.lines.Line2D at 0x10cffdcd0>]"
       ]
      },
      {
       "metadata": {},
       "output_type": "display_data",
       "png": "[encoded data removed]",
       "text": [
        "<matplotlib.figure.Figure at 0x10cf3b410>"
       ]
      }
     ],
     "prompt_number": 178
    },
    {
     "cell_type": "code",
     "collapsed": false,
     "input": [
      "plt.plot(np.array(experiment._variant_rewards).cumsum() - np.array(experiment._control_rewards).cumsum())"
     ],
     "language": "python",
     "metadata": {},
     "outputs": [
      {
       "metadata": {},
       "output_type": "pyout",
       "prompt_number": 179,
       "text": [
        "[<matplotlib.lines.Line2D at 0x10d095ed0>]"
       ]
      },
      {
       "metadata": {},
       "output_type": "display_data",
       "png": "[encoded data removed]",
       "text": [
        "<matplotlib.figure.Figure at 0x10ccda750>"
       ]
      }
     ],
     "prompt_number": 179
    },
    {
     "cell_type": "code",
     "collapsed": false,
     "input": [
      "plt.plot(np.array(experiment._chosen_rewards).cumsum() - np.array(experiment._control_rewards).cumsum())"
     ],
     "language": "python",
     "metadata": {},
     "outputs": [
      {
       "metadata": {},
       "output_type": "pyout",
       "prompt_number": 180,
       "text": [
        "[<matplotlib.lines.Line2D at 0x10d131890>]"
       ]
      },
      {
       "metadata": {},
       "output_type": "display_data",
       "png": "[encoded data removed]",
       "text": [
        "<matplotlib.figure.Figure at 0x10d110f90>"
       ]
      }
     ],
     "prompt_number": 180
    },
    {
     "cell_type": "code",
     "collapsed": false,
     "input": [
      "experiment._control_rewards"
     ],
     "language": "python",
     "metadata": {},
     "outputs": [
      {
       "metadata": {},
       "output_type": "pyout",
       "prompt_number": 126,
       "text": [
        "[27.187810323006076,\n",
        " 10.826196058597532,\n",
        " 20.019452872108214,\n",
        " 32.86248311672894,\n",
        " 18.310223130844633]"
       ]
      }
     ],
     "prompt_number": 126
    },
    {
     "cell_type": "code",
     "collapsed": false,
     "input": [
      "np.random.binomial(1000, .001)"
     ],
     "language": "python",
     "metadata": {},
     "outputs": [
      {
       "metadata": {},
       "output_type": "pyout",
       "prompt_number": 107,
       "text": [
        "1"
       ]
      }
     ],
     "prompt_number": 107
    },
    {
     "cell_type": "code",
     "collapsed": false,
     "input": [
      "def better_bootstrap(data, max=200.):\n",
      "  p_unobserved = 1./(len(data) + 1.)\n",
      "  number_of_randoms = np.random.binomial(len(data)+1, p_unobserved)\n",
      "  random_values = [numpy.random.uniform(0., max) for i in range(number_of_randoms)]\n",
      "  new_data = data + random_values\n",
      "  sample_mean = np.random.choice(new_data, size=len(new_data)).mean()\n",
      "  return sample_mean"
     ],
     "language": "python",
     "metadata": {},
     "outputs": [],
     "prompt_number": 181
    },
    {
     "cell_type": "code",
     "collapsed": false,
     "input": [
      "le_data = list(np.random.normal(loc=25, scale=5, size=5))\n",
      "plt.hist([better_bootstrap(le_data) for i in range(5000)], bins=100)\n",
      "''"
     ],
     "language": "python",
     "metadata": {},
     "outputs": [
      {
       "metadata": {},
       "output_type": "pyout",
       "prompt_number": 200,
       "text": [
        "''"
       ]
      },
      {
       "metadata": {},
       "output_type": "display_data",
       "png": "[encoded data removed]",
       "text": [
        "<matplotlib.figure.Figure at 0x10d593d50>"
       ]
      }
     ],
     "prompt_number": 200
    },
    {
     "cell_type": "code",
     "collapsed": false,
     "input": [
      "def random_interval_bootstrap(data, sample_count=1000, max=200.):\n",
      "  \"\"\"A bootstrap that works on an interval like 0 to 200. It assumes that \n",
      "  the likelihood of seeing a value we haven't seen is 1/N.\"\"\"\n",
      "  sampled_means = []\n",
      "  for x in range(sample_count):\n",
      "      p_unobserved = 1./(len(data) + 1.)\n",
      "      number_of_randoms = np.random.binomial(len(data)+1, p_unobserved)\n",
      "      random_values = [numpy.random.uniform(0., max) for i in range(number_of_randoms)]\n",
      "      new_data = data + random_values\n",
      "      sample_mean = np.random.choice(new_data, size=len(new_data)).mean()\n",
      "      sampled_means.append(sample_mean)\n",
      "  return sampled_means\n",
      "\n",
      "le_data = list(np.random.normal(loc=25, scale=5, size=2))\n",
      "plt.hist(random_interval_bootstrap(le_data, 5000), bins=100)\n",
      "''"
     ],
     "language": "python",
     "metadata": {},
     "outputs": [
      {
       "metadata": {},
       "output_type": "pyout",
       "prompt_number": 215,
       "text": [
        "''"
       ]
      },
      {
       "metadata": {},
       "output_type": "display_data",
       "png": "[encoded data removed]",
       "text": [
        "<matplotlib.figure.Figure at 0x10dca8a50>"
       ]
      }
     ],
     "prompt_number": 215
    },
    {
     "cell_type": "code",
     "collapsed": false,
     "input": [
      "import random, numpy\n",
      "\n",
      "class BanditScenario:\n",
      "  def __init__(self, scenario):\n",
      "    self._scenario = scenario\n",
      "    self._scenario_payoffs = {treatment_name:[] for treatment_name in self._scenario.keys()}\n",
      "  def next_visitor(self, show_treatment):\n",
      "    for key, value in self._scenario.items():\n",
      "      ordered = np.random.binomial(1, value['conversion_rate'])\n",
      "      order_average = numpy.random.normal(loc=value['order_average'], scale=5.00)\n",
      "      self._scenario_payoffs[key].append(ordered*order_average)\n",
      "    return self._scenario_payoffs[show_treatment][-1]\n",
      "\n",
      "class BanditPlayer:\n",
      "  def __init__(self, treatments):\n",
      "    self._payoffs = []\n",
      "    self._treatments = treatments\n",
      "    self._results = {treatment_name:[] for treatment_name in treatments}\n",
      "  def next_treatment_to_show(self):\n",
      "    return random.choice(self._treatments)\n",
      "  def visitor_results(self, treatment_shown, money_made):\n",
      "    treatment_results = self._results[treatment_shown]\n",
      "    treatment_results.append(money_made)\n",
      "    self._payoffs.append(money_made)\n",
      "    \n",
      "simulated_experiment = BanditScenario({\n",
      "  'A': {\n",
      "    'conversion_rate': .05,\n",
      "    'order_average': 35.00\n",
      "  }, \n",
      "  'B':{\n",
      "    'conversion_rate': .06,\n",
      "    'order_average': 36.00\n",
      "  }, \n",
      "  'C':{\n",
      "    'conversion_rate': .07,\n",
      "    'order_average': 31.00\n",
      "  }\n",
      "})\n",
      "\n",
      "bandit = BanditPlayer(['A', 'B', 'C'])\n",
      "\n",
      "visitor_count = 500\n",
      "\n",
      "for i in range(visitor_count):\n",
      "    treatment_name = bandit.next_treatment_to_show()\n",
      "    money_made = simulated_experiment.next_visitor(show_treatment=treatment_name)\n",
      "    bandit.visitor_results(treatment_name, money_made)\n"
     ],
     "language": "python",
     "metadata": {},
     "outputs": [],
     "prompt_number": 276
    },
    {
     "cell_type": "code",
     "collapsed": false,
     "input": [
      "plt.plot(np.array(simulated_experiment._scenario_payoffs['A']).cumsum())\n",
      "plt.plot(np.array(simulated_experiment._scenario_payoffs['B']).cumsum())\n",
      "plt.plot(np.array(simulated_experiment._scenario_payoffs['C']).cumsum())\n"
     ],
     "language": "python",
     "metadata": {},
     "outputs": [
      {
       "metadata": {},
       "output_type": "pyout",
       "prompt_number": 277,
       "text": [
        "[<matplotlib.lines.Line2D at 0x10df59890>]"
       ]
      },
      {
       "metadata": {},
       "output_type": "display_data",
       "png": "[encoded data removed]",
       "text": [
        "<matplotlib.figure.Figure at 0x10dc85210>"
       ]
      }
     ],
     "prompt_number": 277
    },
    {
     "cell_type": "code",
     "collapsed": false,
     "input": [
      "plt.plot(np.array(bandit._payoffs).cumsum())"
     ],
     "language": "python",
     "metadata": {},
     "outputs": [
      {
       "metadata": {},
       "output_type": "pyout",
       "prompt_number": 278,
       "text": [
        "[<matplotlib.lines.Line2D at 0x10dff38d0>]"
       ]
      },
      {
       "metadata": {},
       "output_type": "display_data",
       "png": "[encoded data removed]",
       "text": [
        "<matplotlib.figure.Figure at 0x10da5cc50>"
       ]
      }
     ],
     "prompt_number": 278
    },
    {
     "cell_type": "code",
     "collapsed": false,
     "input": [
      "random.choice([1,2,3,4,5])"
     ],
     "language": "python",
     "metadata": {},
     "outputs": [
      {
       "metadata": {},
       "output_type": "pyout",
       "prompt_number": 219,
       "text": [
        "2"
       ]
      }
     ],
     "prompt_number": 219
    },
    {
     "cell_type": "code",
     "collapsed": false,
     "input": [
      "random.uniform(0,1)"
     ],
     "language": "python",
     "metadata": {},
     "outputs": [
      {
       "metadata": {},
       "output_type": "pyout",
       "prompt_number": 223,
       "text": [
        "0.7424947747669501"
       ]
      }
     ],
     "prompt_number": 223
    },
    {
     "cell_type": "code",
     "collapsed": false,
     "input": [
      "np.random.binomial(1, .9)"
     ],
     "language": "python",
     "metadata": {},
     "outputs": [
      {
       "metadata": {},
       "output_type": "pyout",
       "prompt_number": 257,
       "text": [
        "1"
       ]
      }
     ],
     "prompt_number": 257
    },
    {
     "cell_type": "code",
     "collapsed": false,
     "input": [
      "{}.items()"
     ],
     "language": "python",
     "metadata": {},
     "outputs": [
      {
       "metadata": {},
       "output_type": "pyout",
       "prompt_number": 258,
       "text": [
        "[]"
       ]
      }
     ],
     "prompt_number": 258
    },
    {
     "cell_type": "code",
     "collapsed": false,
     "input": [
      "class BanditScenario:\n",
      "  def __init__(self, scenario):\n",
      "    self._scenario = scenario\n",
      "    self._scenario_payoffs = {treatment_name:[] for treatment_name in self._scenario.keys()}\n",
      "    self._bandit_payoffs = []\n",
      "  def next_visitor(self, show_treatment):\n",
      "    for key, value in self._scenario.items():\n",
      "      ordered = np.random.binomial(1, value['conversion_rate'])\n",
      "      order_average = numpy.random.normal(loc=value['order_average'], scale=5.00)\n",
      "      self._scenario_payoffs[key].append(ordered*order_average)\n",
      "      if key == show_treatment:\n",
      "          self._bandit_payoffs.append(ordered*order_average)\n",
      "    return self._scenario_payoffs[show_treatment][-1]\n",
      "\n",
      "class SimpleBandit:\n",
      "  def __init__(self, treatments):\n",
      "  \tself._treatments = treatments\n",
      "  \tself._selection_count = 0\n",
      "  \tself._exploitation_count = 0\n",
      "  \tself._payouts = {treatment: 0 for treatment in treatments}\n",
      "  def choose_treatment(self):\n",
      "  \tself._selection_count += 1\n",
      "  \tif self._selection_count <= 5*len(self._treatments):\n",
      "  \t\treturn self._treatments[(self._selection_count-1) / 5]\n",
      "  \telse:\n",
      "  \t\tself._exploitation_count += 1\n",
      "  \t\tif self._exploitation_count == 5:\n",
      "  \t\t\tself._exploitation_count = 0\n",
      "  \t\t\tself._selection_count = 0\n",
      "  \t\treturn sorted(self._payouts.items(), key=lambda x: x[1], reverse=True)[0][0]\n",
      "  def log_payout(self, treatment, amount):\n",
      "    self._payouts[treatment] += amount\n",
      "    \n",
      "class RPMBandit:\n",
      "  def __init__(self, treatments):\n",
      "    self._treatments = treatments\n",
      "    self._payoffs = {treatment: [] for treatment in treatments}\n",
      "  def choose_treatment(self):\n",
      "    max_treatment = self._treatments[0]\n",
      "    max_value = float('-inf')\n",
      "    for key, value in self._payoffs.items():\n",
      "      random_numbers_from_range = np.random.binomial(len(value)+1, 1.0/(len(value)+1))\n",
      "      generated_data = value + [random.uniform(0,200) for i in range(random_numbers_from_range)]\n",
      "      sampled_mean = np.random.choice(generated_data, size=len(generated_data)).mean()\n",
      "      if sampled_mean > max_value:\n",
      "        max_treatment = key\n",
      "        max_value = sampled_mean\n",
      "    return max_treatment\n",
      "  def log_payout(self, treatment, payout):\n",
      "    self._payoffs[treatment].append(payout)"
     ],
     "language": "python",
     "metadata": {},
     "outputs": [],
     "prompt_number": 1
    },
    {
     "cell_type": "code",
     "collapsed": false,
     "input": [
      "simulated_experiment = BanditScenario({\n",
      "  'A': {\n",
      "    'conversion_rate': .05,\n",
      "    'order_average': 35.00\n",
      "  }, \n",
      "  'B':{\n",
      "    'conversion_rate': .06,\n",
      "    'order_average': 36.00\n",
      "  }\n",
      "})\n",
      "\n",
      "simple_bandit = SimpleBandit(['A', 'B'])\n",
      "\n",
      "for visitor_i in range(1500):\n",
      "  treatment = simple_bandit.choose_treatment()\n",
      "  payout = simulated_experiment.next_visitor(treatment)\n",
      "  simple_bandit.log_payout(treatment, payout)\n",
      "\n",
      "plt.title('Money made by different strategies')\n",
      "plt.xlabel('Visitor #')\n",
      "plt.ylabel('Total $ made')\n",
      "    \n",
      "plt.plot(np.array(simulated_experiment._scenario_payoffs['B']).cumsum(), label='Treatment B')\n",
      "plt.plot(np.array(simulated_experiment._bandit_payoffs).cumsum(),label='Bandit')\n",
      "plt.plot(np.array(simulated_experiment._scenario_payoffs['A']).cumsum(), label='Treatment A')\n",
      "plt.legend(bbox_to_anchor=(1.05, 1), loc=2, borderaxespad=0.)"
     ],
     "language": "python",
     "metadata": {},
     "outputs": [
      {
       "metadata": {},
       "output_type": "pyout",
       "prompt_number": 342,
       "text": [
        "<matplotlib.legend.Legend at 0x110a02710>"
       ]
      },
      {
       "metadata": {},
       "output_type": "display_data",
       "png": "[encoded data removed]",
       "text": [
        "<matplotlib.figure.Figure at 0x110863b10>"
       ]
      }
     ],
     "prompt_number": 342
    },
    {
     "cell_type": "code",
     "collapsed": false,
     "input": [
      "len(simulated_experiment._bandit_payoffs)"
     ],
     "language": "python",
     "metadata": {},
     "outputs": [
      {
       "metadata": {},
       "output_type": "pyout",
       "prompt_number": 323,
       "text": [
        "500"
       ]
      }
     ],
     "prompt_number": 323
    },
    {
     "cell_type": "code",
     "collapsed": false,
     "input": [
      "plt.title('Distribution of means for N(35,5) distribution (sampling 100 vs 500 data points)')\n",
      "plt.xlabel('')\n",
      "plt.ylabel('Counts')\n",
      "\n",
      "plt.hist([np.random.normal(loc=35, scale=5, size=100).mean() for i in range(2500)], label='100 sample mean')\n",
      "plt.hist([np.random.normal(loc=35, scale=5, size=500).mean() for i in range(2500)], label='500 sample mean')\n",
      "plt.legend(bbox_to_anchor=(1.05, 1), loc=2, borderaxespad=0.)\n",
      "''"
     ],
     "language": "python",
     "metadata": {},
     "outputs": [
      {
       "metadata": {},
       "output_type": "pyout",
       "prompt_number": 354,
       "text": [
        "''"
       ]
      },
      {
       "metadata": {},
       "output_type": "display_data",
       "png": "[encoded data removed]",
       "text": [
        "<matplotlib.figure.Figure at 0x110f19390>"
       ]
      }
     ],
     "prompt_number": 354
    },
    {
     "cell_type": "code",
     "collapsed": false,
     "input": [
      "plt.hist([np.random.normal(loc=35, scale=5, size=100).mean() - \n",
      "          np.random.normal(loc=34, scale=5, size=100).mean() \n",
      "          for i in range(2500)], bins=30, label='100 sample mean')\n",
      "''"
     ],
     "language": "python",
     "metadata": {},
     "outputs": [
      {
       "metadata": {},
       "output_type": "pyout",
       "prompt_number": 360,
       "text": [
        "''"
       ]
      },
      {
       "metadata": {},
       "output_type": "display_data",
       "png": "[encoded data removed]",
       "text": [
        "<matplotlib.figure.Figure at 0x11134df10>"
       ]
      }
     ],
     "prompt_number": 360
    },
    {
     "cell_type": "code",
     "collapsed": false,
     "input": [
      "plt.title('Distributions of a mean of 34 and 35 with 50 samples')\n",
      "plt.xlabel('')\n",
      "plt.ylabel('Counts')\n",
      "\n",
      "plt.hist([np.random.normal(loc=35, scale=5, size=50).mean()\n",
      "          for i in range(2500)], \n",
      "          bins=30, label='mean of 35', alpha=.8)\n",
      "plt.hist([np.random.normal(loc=34, scale=5, size=50).mean()\n",
      "          for i in range(2500)], \n",
      "          bins=30, label='mean of 34', alpha=.8)\n",
      "plt.legend(bbox_to_anchor=(1.05, 1), loc=2, borderaxespad=0.)\n",
      "''"
     ],
     "language": "python",
     "metadata": {},
     "outputs": [
      {
       "metadata": {},
       "output_type": "pyout",
       "prompt_number": 370,
       "text": [
        "''"
       ]
      },
      {
       "metadata": {},
       "output_type": "display_data",
       "png": "[encoded data removed]",
       "text": [
        "<matplotlib.figure.Figure at 0x11159fe50>"
       ]
      }
     ],
     "prompt_number": 370
    },
    {
     "cell_type": "code",
     "collapsed": false,
     "input": [
      "sum([np.random.normal(loc=34, scale=5, size=50).mean() > np.random.normal(loc=35, scale=5, size=50).mean() \n",
      " for i in range(1500)])/1500."
     ],
     "language": "python",
     "metadata": {},
     "outputs": [
      {
       "metadata": {},
       "output_type": "pyout",
       "prompt_number": 372,
       "text": [
        "0.154"
       ]
      }
     ],
     "prompt_number": 372
    },
    {
     "cell_type": "code",
     "collapsed": false,
     "input": [
      "np.random.choice([34,32,33], size=3).mean()"
     ],
     "language": "python",
     "metadata": {},
     "outputs": [
      {
       "metadata": {},
       "output_type": "pyout",
       "prompt_number": 378,
       "text": [
        "32.333333333333336"
       ]
      }
     ],
     "prompt_number": 378
    },
    {
     "cell_type": "code",
     "collapsed": false,
     "input": [
      "np.random.binomial(1, .8, 3)"
     ],
     "language": "python",
     "metadata": {},
     "outputs": [
      {
       "metadata": {},
       "output_type": "pyout",
       "prompt_number": 382,
       "text": [
        "array([1, 0, 1])"
       ]
      }
     ],
     "prompt_number": 382
    },
    {
     "cell_type": "code",
     "collapsed": false,
     "input": [
      "random\n"
     ],
     "language": "python",
     "metadata": {},
     "outputs": [
      {
       "metadata": {},
       "output_type": "pyout",
       "prompt_number": 383,
       "text": [
        "<module 'random' from '/System/Library/Frameworks/Python.framework/Versions/2.7/lib/python2.7/random.pyc'>"
       ]
      }
     ],
     "prompt_number": 383
    },
    {
     "cell_type": "code",
     "collapsed": false,
     "input": [
      "[random.uniform(0,200) for i in range(10)]"
     ],
     "language": "python",
     "metadata": {},
     "outputs": [
      {
       "metadata": {},
       "output_type": "pyout",
       "prompt_number": 386,
       "text": [
        "[84.54080497801762,\n",
        " 153.39546708119394,\n",
        " 61.49010649403734,\n",
        " 108.75419385506284,\n",
        " 3.322612810857284,\n",
        " 145.54794677188755,\n",
        " 129.65442911078392,\n",
        " 37.78473021807234,\n",
        " 57.758856660216715,\n",
        " 146.95638784747035]"
       ]
      }
     ],
     "prompt_number": 386
    },
    {
     "cell_type": "code",
     "collapsed": false,
     "input": [
      "np.random.binomial(0, 1/7., 2)"
     ],
     "language": "python",
     "metadata": {},
     "outputs": [
      {
       "metadata": {},
       "output_type": "pyout",
       "prompt_number": 392,
       "text": [
        "array([0, 0])"
       ]
      }
     ],
     "prompt_number": 392
    },
    {
     "cell_type": "code",
     "collapsed": false,
     "input": [
      "np.random.binomial?\n"
     ],
     "language": "python",
     "metadata": {},
     "outputs": [],
     "prompt_number": 390
    },
    {
     "cell_type": "code",
     "collapsed": false,
     "input": [
      "plt.hist([better_bootstrap([1]) for i in range(5000)], bins=100)\n",
      "''"
     ],
     "language": "python",
     "metadata": {},
     "outputs": [
      {
       "metadata": {},
       "output_type": "pyout",
       "prompt_number": 398,
       "text": [
        "''"
       ]
      },
      {
       "metadata": {},
       "output_type": "display_data",
       "png": "[encoded data removed]",
       "text": [
        "<matplotlib.figure.Figure at 0x111314610>"
       ]
      }
     ],
     "prompt_number": 398
    },
    {
     "cell_type": "code",
     "collapsed": false,
     "input": [
      "def run_bandit_sim(bandit_algorithm):\n",
      "    simulated_experiment = BanditScenario({\n",
      "      'A': {\n",
      "        'conversion_rate': 1,\n",
      "        'order_average': 35.00\n",
      "      }, \n",
      "      'B':{\n",
      "        'conversion_rate': 1,\n",
      "        'order_average': 50.00\n",
      "      }\n",
      "    })\n",
      "\n",
      "    simple_bandit = bandit_algorithm\n",
      "\n",
      "    for visitor_i in range(500):\n",
      "      treatment = simple_bandit.choose_treatment()\n",
      "      payout = simulated_experiment.next_visitor(treatment)\n",
      "      simple_bandit.log_payout(treatment, payout)\n",
      "\n",
      "    return sum(simulated_experiment._bandit_payoffs)\n",
      "\n",
      "simple_bandit_results = np.array([run_bandit_sim(SimpleBandit(['A', 'B'])) for i in range(300)])\n",
      "rpm_bandit_results = np.array([run_bandit_sim(RPMBandit(['A', 'B'])) for i in range(300)])\n",
      "\n",
      "print 'SimpleBandit: ' + str(mean(simple_bandit_results))\n",
      "print 'RPMBandit: ' + str(mean(rpm_bandit_results))\n",
      "\n",
      "plt.title('Payoffs of SimpleBandit vs RPMBandit')\n",
      "plt.xlabel('Total Payoff')\n",
      "plt.ylabel('Observations')\n",
      "plt.hist(simple_bandit_results, label='SimpleBandit', alpha=.8, bins=40)\n",
      "plt.hist(rpm_bandit_results, label='RPMBandit', alpha=.8, bins=40)\n",
      "plt.legend(bbox_to_anchor=(1.05, 1), loc=2, borderaxespad=0.)\n",
      "''"
     ],
     "language": "python",
     "metadata": {},
     "outputs": [
      {
       "output_type": "stream",
       "stream": "stdout",
       "text": [
        "SimpleBandit: 22443.9230864\n",
        "RPMBandit: 24567.9045708\n"
       ]
      },
      {
       "metadata": {},
       "output_type": "pyout",
       "prompt_number": 42,
       "text": [
        "''"
       ]
      },
      {
       "metadata": {},
       "output_type": "display_data",
       "png": "[encoded data removed]",
       "text": [
        "<matplotlib.figure.Figure at 0x10cebadd0>"
       ]
      }
     ],
     "prompt_number": 42
    },
    {
     "cell_type": "code",
     "collapsed": false,
     "input": [
      "sum(simple_bandit_results)"
     ],
     "language": "python",
     "metadata": {},
     "outputs": [
      {
       "metadata": {},
       "output_type": "pyout",
       "prompt_number": 32,
       "text": [
        "1143566.6613173415"
       ]
      }
     ],
     "prompt_number": 32
    },
    {
     "cell_type": "code",
     "collapsed": false,
     "input": [
      "sum(rpm_bandit_results)"
     ],
     "language": "python",
     "metadata": {},
     "outputs": [
      {
       "metadata": {},
       "output_type": "pyout",
       "prompt_number": 33,
       "text": [
        "1162335.767616957"
       ]
      }
     ],
     "prompt_number": 33
    },
    {
     "cell_type": "code",
     "collapsed": false,
     "input": [
      "sum(rpm_bandit_results)/sum(simple_bandit_results)"
     ],
     "language": "python",
     "metadata": {},
     "outputs": [
      {
       "metadata": {},
       "output_type": "pyout",
       "prompt_number": 34,
       "text": [
        "1.0164127784890076"
       ]
      }
     ],
     "prompt_number": 34
    },
    {
     "cell_type": "code",
     "collapsed": false,
     "input": [],
     "language": "python",
     "metadata": {},
     "outputs": []
    }
   ],
   "metadata": {}
  }
 ]
}